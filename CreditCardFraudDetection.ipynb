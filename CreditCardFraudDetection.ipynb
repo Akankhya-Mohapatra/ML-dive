{
 "cells": [
  {
   "cell_type": "markdown",
   "metadata": {
    "papermill": {
     "duration": 0.018604,
     "end_time": "2020-12-29T08:02:32.088403",
     "exception": false,
     "start_time": "2020-12-29T08:02:32.069799",
     "status": "completed"
    },
    "tags": []
   },
   "source": [
    "# **CC Fraud Detection**\n",
    "\n",
    "The datasets contain transactions made by credit cards in September 2013 by European cardholders. This dataset presents transactions that occurred in two days, where we have 492 frauds out of 284,807 transactions. The dataset is highly unbalanced, the positive class (frauds) account for 0.172% of all transactions\n",
    "\n",
    "I have implemented K-Means SMOTE with ANN to classify the fraudulent transactions. Then, using confusion matrix, I estimate the f1-score and AUC using the ROC curve. "
   ]
  },
  {
   "cell_type": "code",
   "execution_count": 1,
   "metadata": {
    "_cell_guid": "79c7e3d0-c299-4dcb-8224-4455121ee9b0",
    "_uuid": "d629ff2d2480ee46fbb7e2d37f6b5fab8052498a",
    "execution": {
     "iopub.execute_input": "2020-12-29T08:02:32.133785Z",
     "iopub.status.busy": "2020-12-29T08:02:32.132914Z",
     "iopub.status.idle": "2020-12-29T08:02:38.098458Z",
     "shell.execute_reply": "2020-12-29T08:02:38.097756Z"
    },
    "papermill": {
     "duration": 5.992164,
     "end_time": "2020-12-29T08:02:38.098592",
     "exception": false,
     "start_time": "2020-12-29T08:02:32.106428",
     "status": "completed"
    },
    "tags": []
   },
   "outputs": [],
   "source": [
    "#Import libraries\n",
    "import pandas as pd\n",
    "from sklearn.preprocessing import StandardScaler\n",
    "from sklearn.model_selection import train_test_split\n",
    "from imblearn.over_sampling import KMeansSMOTE\n",
    "from sklearn.cluster import MiniBatchKMeans as MiniKM\n",
    "import numpy as np\n",
    "import keras\n",
    "from keras.models import Sequential\n",
    "from keras.layers import Dense\n",
    "from sklearn.metrics import classification_report\n",
    "from sklearn.metrics import confusion_matrix\n",
    "from sklearn.metrics import f1_score\n",
    "from sklearn.metrics import accuracy_score\n",
    "from sklearn.metrics import roc_curve\n",
    "from sklearn.metrics import auc\n",
    "import matplotlib.pyplot as plt"
   ]
  },
  {
   "cell_type": "code",
   "execution_count": 2,
   "metadata": {
    "execution": {
     "iopub.execute_input": "2020-12-29T08:02:38.150436Z",
     "iopub.status.busy": "2020-12-29T08:02:38.149710Z",
     "iopub.status.idle": "2020-12-29T08:02:41.802426Z",
     "shell.execute_reply": "2020-12-29T08:02:41.803208Z"
    },
    "papermill": {
     "duration": 3.68542,
     "end_time": "2020-12-29T08:02:41.803363",
     "exception": false,
     "start_time": "2020-12-29T08:02:38.117943",
     "status": "completed"
    },
    "tags": []
   },
   "outputs": [
    {
     "name": "stdout",
     "output_type": "stream",
     "text": [
      "   Time        V1        V2        V3        V4        V5        V6        V7  \\\n",
      "0   0.0 -1.359807 -0.072781  2.536347  1.378155 -0.338321  0.462388  0.239599   \n",
      "1   0.0  1.191857  0.266151  0.166480  0.448154  0.060018 -0.082361 -0.078803   \n",
      "2   1.0 -1.358354 -1.340163  1.773209  0.379780 -0.503198  1.800499  0.791461   \n",
      "3   1.0 -0.966272 -0.185226  1.792993 -0.863291 -0.010309  1.247203  0.237609   \n",
      "4   2.0 -1.158233  0.877737  1.548718  0.403034 -0.407193  0.095921  0.592941   \n",
      "\n",
      "         V8        V9  ...       V21       V22       V23       V24       V25  \\\n",
      "0  0.098698  0.363787  ... -0.018307  0.277838 -0.110474  0.066928  0.128539   \n",
      "1  0.085102 -0.255425  ... -0.225775 -0.638672  0.101288 -0.339846  0.167170   \n",
      "2  0.247676 -1.514654  ...  0.247998  0.771679  0.909412 -0.689281 -0.327642   \n",
      "3  0.377436 -1.387024  ... -0.108300  0.005274 -0.190321 -1.175575  0.647376   \n",
      "4 -0.270533  0.817739  ... -0.009431  0.798278 -0.137458  0.141267 -0.206010   \n",
      "\n",
      "        V26       V27       V28  Amount  Class  \n",
      "0 -0.189115  0.133558 -0.021053  149.62      0  \n",
      "1  0.125895 -0.008983  0.014724    2.69      0  \n",
      "2 -0.139097 -0.055353 -0.059752  378.66      0  \n",
      "3 -0.221929  0.062723  0.061458  123.50      0  \n",
      "4  0.502292  0.219422  0.215153   69.99      0  \n",
      "\n",
      "[5 rows x 31 columns]\n"
     ]
    }
   ],
   "source": [
    "#load dataset\n",
    "raw_data = pd.read_csv(\"../input/creditcardfraud/creditcard.csv\") \n",
    "print(raw_data.head())"
   ]
  },
  {
   "cell_type": "code",
   "execution_count": 3,
   "metadata": {
    "execution": {
     "iopub.execute_input": "2020-12-29T08:02:41.846823Z",
     "iopub.status.busy": "2020-12-29T08:02:41.846054Z",
     "iopub.status.idle": "2020-12-29T08:02:41.849792Z",
     "shell.execute_reply": "2020-12-29T08:02:41.850434Z"
    },
    "papermill": {
     "duration": 0.027153,
     "end_time": "2020-12-29T08:02:41.850591",
     "exception": false,
     "start_time": "2020-12-29T08:02:41.823438",
     "status": "completed"
    },
    "tags": []
   },
   "outputs": [
    {
     "name": "stdout",
     "output_type": "stream",
     "text": [
      "(284807, 31)\n"
     ]
    }
   ],
   "source": [
    "#sample, features - row * column\n",
    "print(raw_data.shape)\n",
    "#output- rows, columns"
   ]
  },
  {
   "cell_type": "code",
   "execution_count": 4,
   "metadata": {
    "execution": {
     "iopub.execute_input": "2020-12-29T08:02:41.893189Z",
     "iopub.status.busy": "2020-12-29T08:02:41.892530Z",
     "iopub.status.idle": "2020-12-29T08:02:42.213802Z",
     "shell.execute_reply": "2020-12-29T08:02:42.213055Z"
    },
    "papermill": {
     "duration": 0.343878,
     "end_time": "2020-12-29T08:02:42.213935",
     "exception": false,
     "start_time": "2020-12-29T08:02:41.870057",
     "status": "completed"
    },
    "tags": []
   },
   "outputs": [
    {
     "name": "stdout",
     "output_type": "stream",
     "text": [
      "                                                Time  \\\n",
      "0  [0.0, 1.0, 2.0, 4.0, 7.0, 9.0, 10.0, 11.0, 12....   \n",
      "\n",
      "                                                  V1  \\\n",
      "0  [-1.3598071336738, 1.1918571113148602, -1.3583...   \n",
      "\n",
      "                                                  V2  \\\n",
      "0  [-0.0727811733098497, 0.26615071205963, -1.340...   \n",
      "\n",
      "                                                  V3  \\\n",
      "0  [2.53634673796914, 0.16648011335321, 1.7732093...   \n",
      "\n",
      "                                                  V4  \\\n",
      "0  [1.37815522427443, 0.448154078460911, 0.379779...   \n",
      "\n",
      "                                                  V5  \\\n",
      "0  [-0.33832076994251803, 0.0600176492822243, -0....   \n",
      "\n",
      "                                                  V6  \\\n",
      "0  [0.462387777762292, -0.0823608088155687, 1.800...   \n",
      "\n",
      "                                                  V7  \\\n",
      "0  [0.239598554061257, -0.0788029833323113, 0.791...   \n",
      "\n",
      "                                                  V8  \\\n",
      "0  [0.0986979012610507, 0.0851016549148104, 0.247...   \n",
      "\n",
      "                                                  V9  ...  \\\n",
      "0  [0.363786969611213, -0.255425128109186, -1.514...  ...   \n",
      "\n",
      "                                                 V21  \\\n",
      "0  [-0.018306777944153, -0.225775248033138, 0.247...   \n",
      "\n",
      "                                                 V22  \\\n",
      "0  [0.277837575558899, -0.6386719527718511, 0.771...   \n",
      "\n",
      "                                                 V23  \\\n",
      "0  [-0.110473910188767, 0.10128802125323402, 0.90...   \n",
      "\n",
      "                                                 V24  \\\n",
      "0  [0.0669280749146731, -0.33984647552912706, -0....   \n",
      "\n",
      "                                                 V25  \\\n",
      "0  [0.12853935827352803, 0.167170404418143, -0.32...   \n",
      "\n",
      "                                                 V26  \\\n",
      "0  [-0.189114843888824, 0.125894532368176, -0.139...   \n",
      "\n",
      "                                                 V27  \\\n",
      "0  [0.13355837674038698, -0.00898309914322813, -0...   \n",
      "\n",
      "                                                 V28  \\\n",
      "0  [-0.0210530534538215, 0.0147241691924927, -0.0...   \n",
      "\n",
      "                                              Amount   Class  \n",
      "0  [149.62, 2.69, 378.66, 123.5, 69.99, 3.67, 4.9...  [0, 1]  \n",
      "\n",
      "[1 rows x 31 columns]\n"
     ]
    }
   ],
   "source": [
    "#Print the structure of the data\n",
    "print(raw_data.apply(lambda x: [x.unique()]))"
   ]
  },
  {
   "cell_type": "code",
   "execution_count": 5,
   "metadata": {
    "execution": {
     "iopub.execute_input": "2020-12-29T08:02:42.261973Z",
     "iopub.status.busy": "2020-12-29T08:02:42.261020Z",
     "iopub.status.idle": "2020-12-29T08:02:42.264908Z",
     "shell.execute_reply": "2020-12-29T08:02:42.264298Z"
    },
    "papermill": {
     "duration": 0.030575,
     "end_time": "2020-12-29T08:02:42.265010",
     "exception": false,
     "start_time": "2020-12-29T08:02:42.234435",
     "status": "completed"
    },
    "tags": []
   },
   "outputs": [
    {
     "name": "stdout",
     "output_type": "stream",
     "text": [
      "Time      float64\n",
      "V1        float64\n",
      "V2        float64\n",
      "V3        float64\n",
      "V4        float64\n",
      "V5        float64\n",
      "V6        float64\n",
      "V7        float64\n",
      "V8        float64\n",
      "V9        float64\n",
      "V10       float64\n",
      "V11       float64\n",
      "V12       float64\n",
      "V13       float64\n",
      "V14       float64\n",
      "V15       float64\n",
      "V16       float64\n",
      "V17       float64\n",
      "V18       float64\n",
      "V19       float64\n",
      "V20       float64\n",
      "V21       float64\n",
      "V22       float64\n",
      "V23       float64\n",
      "V24       float64\n",
      "V25       float64\n",
      "V26       float64\n",
      "V27       float64\n",
      "V28       float64\n",
      "Amount    float64\n",
      "Class       int64\n",
      "dtype: object\n"
     ]
    }
   ],
   "source": [
    "# using the dtypes() method to display the different datatypes available\n",
    "print(raw_data.dtypes)"
   ]
  },
  {
   "cell_type": "code",
   "execution_count": 6,
   "metadata": {
    "execution": {
     "iopub.execute_input": "2020-12-29T08:02:42.352015Z",
     "iopub.status.busy": "2020-12-29T08:02:42.351000Z",
     "iopub.status.idle": "2020-12-29T08:02:42.359690Z",
     "shell.execute_reply": "2020-12-29T08:02:42.360453Z"
    },
    "papermill": {
     "duration": 0.074902,
     "end_time": "2020-12-29T08:02:42.360614",
     "exception": false,
     "start_time": "2020-12-29T08:02:42.285712",
     "status": "completed"
    },
    "tags": []
   },
   "outputs": [
    {
     "name": "stdout",
     "output_type": "stream",
     "text": [
      "0    284315\n",
      "1       492\n",
      "Name: Class, dtype: int64\n"
     ]
    }
   ],
   "source": [
    "X=raw_data.iloc[:,raw_data.columns!='Class']\n",
    "Y=raw_data.iloc[:,raw_data.columns=='Class']\n",
    "print(Y.Class.value_counts())"
   ]
  },
  {
   "cell_type": "code",
   "execution_count": 7,
   "metadata": {
    "execution": {
     "iopub.execute_input": "2020-12-29T08:02:42.447857Z",
     "iopub.status.busy": "2020-12-29T08:02:42.446774Z",
     "iopub.status.idle": "2020-12-29T08:02:42.807331Z",
     "shell.execute_reply": "2020-12-29T08:02:42.806747Z"
    },
    "papermill": {
     "duration": 0.425689,
     "end_time": "2020-12-29T08:02:42.807440",
     "exception": false,
     "start_time": "2020-12-29T08:02:42.381751",
     "status": "completed"
    },
    "tags": []
   },
   "outputs": [
    {
     "data": {
      "text/html": [
       "<div>\n",
       "<style scoped>\n",
       "    .dataframe tbody tr th:only-of-type {\n",
       "        vertical-align: middle;\n",
       "    }\n",
       "\n",
       "    .dataframe tbody tr th {\n",
       "        vertical-align: top;\n",
       "    }\n",
       "\n",
       "    .dataframe thead th {\n",
       "        text-align: right;\n",
       "    }\n",
       "</style>\n",
       "<table border=\"1\" class=\"dataframe\">\n",
       "  <thead>\n",
       "    <tr style=\"text-align: right;\">\n",
       "      <th></th>\n",
       "      <th>Time</th>\n",
       "      <th>V1</th>\n",
       "      <th>V2</th>\n",
       "      <th>V3</th>\n",
       "      <th>V4</th>\n",
       "      <th>V5</th>\n",
       "      <th>V6</th>\n",
       "      <th>V7</th>\n",
       "      <th>V8</th>\n",
       "      <th>V9</th>\n",
       "      <th>...</th>\n",
       "      <th>V20</th>\n",
       "      <th>V21</th>\n",
       "      <th>V22</th>\n",
       "      <th>V23</th>\n",
       "      <th>V24</th>\n",
       "      <th>V25</th>\n",
       "      <th>V26</th>\n",
       "      <th>V27</th>\n",
       "      <th>V28</th>\n",
       "      <th>Amount</th>\n",
       "    </tr>\n",
       "  </thead>\n",
       "  <tbody>\n",
       "    <tr>\n",
       "      <th>count</th>\n",
       "      <td>284807.000000</td>\n",
       "      <td>2.848070e+05</td>\n",
       "      <td>2.848070e+05</td>\n",
       "      <td>2.848070e+05</td>\n",
       "      <td>2.848070e+05</td>\n",
       "      <td>2.848070e+05</td>\n",
       "      <td>2.848070e+05</td>\n",
       "      <td>2.848070e+05</td>\n",
       "      <td>2.848070e+05</td>\n",
       "      <td>2.848070e+05</td>\n",
       "      <td>...</td>\n",
       "      <td>2.848070e+05</td>\n",
       "      <td>2.848070e+05</td>\n",
       "      <td>2.848070e+05</td>\n",
       "      <td>2.848070e+05</td>\n",
       "      <td>2.848070e+05</td>\n",
       "      <td>2.848070e+05</td>\n",
       "      <td>2.848070e+05</td>\n",
       "      <td>2.848070e+05</td>\n",
       "      <td>2.848070e+05</td>\n",
       "      <td>284807.000000</td>\n",
       "    </tr>\n",
       "    <tr>\n",
       "      <th>mean</th>\n",
       "      <td>94813.859575</td>\n",
       "      <td>3.919560e-15</td>\n",
       "      <td>5.688174e-16</td>\n",
       "      <td>-8.769071e-15</td>\n",
       "      <td>2.782312e-15</td>\n",
       "      <td>-1.552563e-15</td>\n",
       "      <td>2.010663e-15</td>\n",
       "      <td>-1.694249e-15</td>\n",
       "      <td>-1.927028e-16</td>\n",
       "      <td>-3.137024e-15</td>\n",
       "      <td>...</td>\n",
       "      <td>5.085503e-16</td>\n",
       "      <td>1.537294e-16</td>\n",
       "      <td>7.959909e-16</td>\n",
       "      <td>5.367590e-16</td>\n",
       "      <td>4.458112e-15</td>\n",
       "      <td>1.453003e-15</td>\n",
       "      <td>1.699104e-15</td>\n",
       "      <td>-3.660161e-16</td>\n",
       "      <td>-1.206049e-16</td>\n",
       "      <td>88.349619</td>\n",
       "    </tr>\n",
       "    <tr>\n",
       "      <th>std</th>\n",
       "      <td>47488.145955</td>\n",
       "      <td>1.958696e+00</td>\n",
       "      <td>1.651309e+00</td>\n",
       "      <td>1.516255e+00</td>\n",
       "      <td>1.415869e+00</td>\n",
       "      <td>1.380247e+00</td>\n",
       "      <td>1.332271e+00</td>\n",
       "      <td>1.237094e+00</td>\n",
       "      <td>1.194353e+00</td>\n",
       "      <td>1.098632e+00</td>\n",
       "      <td>...</td>\n",
       "      <td>7.709250e-01</td>\n",
       "      <td>7.345240e-01</td>\n",
       "      <td>7.257016e-01</td>\n",
       "      <td>6.244603e-01</td>\n",
       "      <td>6.056471e-01</td>\n",
       "      <td>5.212781e-01</td>\n",
       "      <td>4.822270e-01</td>\n",
       "      <td>4.036325e-01</td>\n",
       "      <td>3.300833e-01</td>\n",
       "      <td>250.120109</td>\n",
       "    </tr>\n",
       "    <tr>\n",
       "      <th>min</th>\n",
       "      <td>0.000000</td>\n",
       "      <td>-5.640751e+01</td>\n",
       "      <td>-7.271573e+01</td>\n",
       "      <td>-4.832559e+01</td>\n",
       "      <td>-5.683171e+00</td>\n",
       "      <td>-1.137433e+02</td>\n",
       "      <td>-2.616051e+01</td>\n",
       "      <td>-4.355724e+01</td>\n",
       "      <td>-7.321672e+01</td>\n",
       "      <td>-1.343407e+01</td>\n",
       "      <td>...</td>\n",
       "      <td>-5.449772e+01</td>\n",
       "      <td>-3.483038e+01</td>\n",
       "      <td>-1.093314e+01</td>\n",
       "      <td>-4.480774e+01</td>\n",
       "      <td>-2.836627e+00</td>\n",
       "      <td>-1.029540e+01</td>\n",
       "      <td>-2.604551e+00</td>\n",
       "      <td>-2.256568e+01</td>\n",
       "      <td>-1.543008e+01</td>\n",
       "      <td>0.000000</td>\n",
       "    </tr>\n",
       "    <tr>\n",
       "      <th>25%</th>\n",
       "      <td>54201.500000</td>\n",
       "      <td>-9.203734e-01</td>\n",
       "      <td>-5.985499e-01</td>\n",
       "      <td>-8.903648e-01</td>\n",
       "      <td>-8.486401e-01</td>\n",
       "      <td>-6.915971e-01</td>\n",
       "      <td>-7.682956e-01</td>\n",
       "      <td>-5.540759e-01</td>\n",
       "      <td>-2.086297e-01</td>\n",
       "      <td>-6.430976e-01</td>\n",
       "      <td>...</td>\n",
       "      <td>-2.117214e-01</td>\n",
       "      <td>-2.283949e-01</td>\n",
       "      <td>-5.423504e-01</td>\n",
       "      <td>-1.618463e-01</td>\n",
       "      <td>-3.545861e-01</td>\n",
       "      <td>-3.171451e-01</td>\n",
       "      <td>-3.269839e-01</td>\n",
       "      <td>-7.083953e-02</td>\n",
       "      <td>-5.295979e-02</td>\n",
       "      <td>5.600000</td>\n",
       "    </tr>\n",
       "    <tr>\n",
       "      <th>50%</th>\n",
       "      <td>84692.000000</td>\n",
       "      <td>1.810880e-02</td>\n",
       "      <td>6.548556e-02</td>\n",
       "      <td>1.798463e-01</td>\n",
       "      <td>-1.984653e-02</td>\n",
       "      <td>-5.433583e-02</td>\n",
       "      <td>-2.741871e-01</td>\n",
       "      <td>4.010308e-02</td>\n",
       "      <td>2.235804e-02</td>\n",
       "      <td>-5.142873e-02</td>\n",
       "      <td>...</td>\n",
       "      <td>-6.248109e-02</td>\n",
       "      <td>-2.945017e-02</td>\n",
       "      <td>6.781943e-03</td>\n",
       "      <td>-1.119293e-02</td>\n",
       "      <td>4.097606e-02</td>\n",
       "      <td>1.659350e-02</td>\n",
       "      <td>-5.213911e-02</td>\n",
       "      <td>1.342146e-03</td>\n",
       "      <td>1.124383e-02</td>\n",
       "      <td>22.000000</td>\n",
       "    </tr>\n",
       "    <tr>\n",
       "      <th>75%</th>\n",
       "      <td>139320.500000</td>\n",
       "      <td>1.315642e+00</td>\n",
       "      <td>8.037239e-01</td>\n",
       "      <td>1.027196e+00</td>\n",
       "      <td>7.433413e-01</td>\n",
       "      <td>6.119264e-01</td>\n",
       "      <td>3.985649e-01</td>\n",
       "      <td>5.704361e-01</td>\n",
       "      <td>3.273459e-01</td>\n",
       "      <td>5.971390e-01</td>\n",
       "      <td>...</td>\n",
       "      <td>1.330408e-01</td>\n",
       "      <td>1.863772e-01</td>\n",
       "      <td>5.285536e-01</td>\n",
       "      <td>1.476421e-01</td>\n",
       "      <td>4.395266e-01</td>\n",
       "      <td>3.507156e-01</td>\n",
       "      <td>2.409522e-01</td>\n",
       "      <td>9.104512e-02</td>\n",
       "      <td>7.827995e-02</td>\n",
       "      <td>77.165000</td>\n",
       "    </tr>\n",
       "    <tr>\n",
       "      <th>max</th>\n",
       "      <td>172792.000000</td>\n",
       "      <td>2.454930e+00</td>\n",
       "      <td>2.205773e+01</td>\n",
       "      <td>9.382558e+00</td>\n",
       "      <td>1.687534e+01</td>\n",
       "      <td>3.480167e+01</td>\n",
       "      <td>7.330163e+01</td>\n",
       "      <td>1.205895e+02</td>\n",
       "      <td>2.000721e+01</td>\n",
       "      <td>1.559499e+01</td>\n",
       "      <td>...</td>\n",
       "      <td>3.942090e+01</td>\n",
       "      <td>2.720284e+01</td>\n",
       "      <td>1.050309e+01</td>\n",
       "      <td>2.252841e+01</td>\n",
       "      <td>4.584549e+00</td>\n",
       "      <td>7.519589e+00</td>\n",
       "      <td>3.517346e+00</td>\n",
       "      <td>3.161220e+01</td>\n",
       "      <td>3.384781e+01</td>\n",
       "      <td>25691.160000</td>\n",
       "    </tr>\n",
       "  </tbody>\n",
       "</table>\n",
       "<p>8 rows × 30 columns</p>\n",
       "</div>"
      ],
      "text/plain": [
       "                Time            V1            V2            V3            V4  \\\n",
       "count  284807.000000  2.848070e+05  2.848070e+05  2.848070e+05  2.848070e+05   \n",
       "mean    94813.859575  3.919560e-15  5.688174e-16 -8.769071e-15  2.782312e-15   \n",
       "std     47488.145955  1.958696e+00  1.651309e+00  1.516255e+00  1.415869e+00   \n",
       "min         0.000000 -5.640751e+01 -7.271573e+01 -4.832559e+01 -5.683171e+00   \n",
       "25%     54201.500000 -9.203734e-01 -5.985499e-01 -8.903648e-01 -8.486401e-01   \n",
       "50%     84692.000000  1.810880e-02  6.548556e-02  1.798463e-01 -1.984653e-02   \n",
       "75%    139320.500000  1.315642e+00  8.037239e-01  1.027196e+00  7.433413e-01   \n",
       "max    172792.000000  2.454930e+00  2.205773e+01  9.382558e+00  1.687534e+01   \n",
       "\n",
       "                 V5            V6            V7            V8            V9  \\\n",
       "count  2.848070e+05  2.848070e+05  2.848070e+05  2.848070e+05  2.848070e+05   \n",
       "mean  -1.552563e-15  2.010663e-15 -1.694249e-15 -1.927028e-16 -3.137024e-15   \n",
       "std    1.380247e+00  1.332271e+00  1.237094e+00  1.194353e+00  1.098632e+00   \n",
       "min   -1.137433e+02 -2.616051e+01 -4.355724e+01 -7.321672e+01 -1.343407e+01   \n",
       "25%   -6.915971e-01 -7.682956e-01 -5.540759e-01 -2.086297e-01 -6.430976e-01   \n",
       "50%   -5.433583e-02 -2.741871e-01  4.010308e-02  2.235804e-02 -5.142873e-02   \n",
       "75%    6.119264e-01  3.985649e-01  5.704361e-01  3.273459e-01  5.971390e-01   \n",
       "max    3.480167e+01  7.330163e+01  1.205895e+02  2.000721e+01  1.559499e+01   \n",
       "\n",
       "       ...           V20           V21           V22           V23  \\\n",
       "count  ...  2.848070e+05  2.848070e+05  2.848070e+05  2.848070e+05   \n",
       "mean   ...  5.085503e-16  1.537294e-16  7.959909e-16  5.367590e-16   \n",
       "std    ...  7.709250e-01  7.345240e-01  7.257016e-01  6.244603e-01   \n",
       "min    ... -5.449772e+01 -3.483038e+01 -1.093314e+01 -4.480774e+01   \n",
       "25%    ... -2.117214e-01 -2.283949e-01 -5.423504e-01 -1.618463e-01   \n",
       "50%    ... -6.248109e-02 -2.945017e-02  6.781943e-03 -1.119293e-02   \n",
       "75%    ...  1.330408e-01  1.863772e-01  5.285536e-01  1.476421e-01   \n",
       "max    ...  3.942090e+01  2.720284e+01  1.050309e+01  2.252841e+01   \n",
       "\n",
       "                V24           V25           V26           V27           V28  \\\n",
       "count  2.848070e+05  2.848070e+05  2.848070e+05  2.848070e+05  2.848070e+05   \n",
       "mean   4.458112e-15  1.453003e-15  1.699104e-15 -3.660161e-16 -1.206049e-16   \n",
       "std    6.056471e-01  5.212781e-01  4.822270e-01  4.036325e-01  3.300833e-01   \n",
       "min   -2.836627e+00 -1.029540e+01 -2.604551e+00 -2.256568e+01 -1.543008e+01   \n",
       "25%   -3.545861e-01 -3.171451e-01 -3.269839e-01 -7.083953e-02 -5.295979e-02   \n",
       "50%    4.097606e-02  1.659350e-02 -5.213911e-02  1.342146e-03  1.124383e-02   \n",
       "75%    4.395266e-01  3.507156e-01  2.409522e-01  9.104512e-02  7.827995e-02   \n",
       "max    4.584549e+00  7.519589e+00  3.517346e+00  3.161220e+01  3.384781e+01   \n",
       "\n",
       "              Amount  \n",
       "count  284807.000000  \n",
       "mean       88.349619  \n",
       "std       250.120109  \n",
       "min         0.000000  \n",
       "25%         5.600000  \n",
       "50%        22.000000  \n",
       "75%        77.165000  \n",
       "max     25691.160000  \n",
       "\n",
       "[8 rows x 30 columns]"
      ]
     },
     "execution_count": 7,
     "metadata": {},
     "output_type": "execute_result"
    }
   ],
   "source": [
    "X.describe()"
   ]
  },
  {
   "cell_type": "code",
   "execution_count": 8,
   "metadata": {
    "execution": {
     "iopub.execute_input": "2020-12-29T08:02:42.859689Z",
     "iopub.status.busy": "2020-12-29T08:02:42.858893Z",
     "iopub.status.idle": "2020-12-29T08:02:42.988459Z",
     "shell.execute_reply": "2020-12-29T08:02:42.987736Z"
    },
    "papermill": {
     "duration": 0.159295,
     "end_time": "2020-12-29T08:02:42.988575",
     "exception": false,
     "start_time": "2020-12-29T08:02:42.829280",
     "status": "completed"
    },
    "tags": []
   },
   "outputs": [],
   "source": [
    "X['normalizedAmount'] = StandardScaler().fit_transform(X['Amount'].values.reshape(-1,1))\n",
    "X['normalizedTime']   = StandardScaler().fit_transform(X['Time'].values.reshape(-1,1))\n",
    "X = X.drop(['Amount'],axis=1)\n",
    "X = X.drop(['Time'],axis=1)"
   ]
  },
  {
   "cell_type": "code",
   "execution_count": 9,
   "metadata": {
    "execution": {
     "iopub.execute_input": "2020-12-29T08:02:43.049594Z",
     "iopub.status.busy": "2020-12-29T08:02:43.045415Z",
     "iopub.status.idle": "2020-12-29T08:02:43.065024Z",
     "shell.execute_reply": "2020-12-29T08:02:43.064363Z"
    },
    "papermill": {
     "duration": 0.054164,
     "end_time": "2020-12-29T08:02:43.065127",
     "exception": false,
     "start_time": "2020-12-29T08:02:43.010963",
     "status": "completed"
    },
    "tags": []
   },
   "outputs": [
    {
     "data": {
      "text/html": [
       "<div>\n",
       "<style scoped>\n",
       "    .dataframe tbody tr th:only-of-type {\n",
       "        vertical-align: middle;\n",
       "    }\n",
       "\n",
       "    .dataframe tbody tr th {\n",
       "        vertical-align: top;\n",
       "    }\n",
       "\n",
       "    .dataframe thead th {\n",
       "        text-align: right;\n",
       "    }\n",
       "</style>\n",
       "<table border=\"1\" class=\"dataframe\">\n",
       "  <thead>\n",
       "    <tr style=\"text-align: right;\">\n",
       "      <th></th>\n",
       "      <th>V1</th>\n",
       "      <th>V2</th>\n",
       "      <th>V3</th>\n",
       "      <th>V4</th>\n",
       "      <th>V5</th>\n",
       "      <th>V6</th>\n",
       "      <th>V7</th>\n",
       "      <th>V8</th>\n",
       "      <th>V9</th>\n",
       "      <th>V10</th>\n",
       "      <th>...</th>\n",
       "      <th>V21</th>\n",
       "      <th>V22</th>\n",
       "      <th>V23</th>\n",
       "      <th>V24</th>\n",
       "      <th>V25</th>\n",
       "      <th>V26</th>\n",
       "      <th>V27</th>\n",
       "      <th>V28</th>\n",
       "      <th>normalizedAmount</th>\n",
       "      <th>normalizedTime</th>\n",
       "    </tr>\n",
       "  </thead>\n",
       "  <tbody>\n",
       "    <tr>\n",
       "      <th>0</th>\n",
       "      <td>-1.359807</td>\n",
       "      <td>-0.072781</td>\n",
       "      <td>2.536347</td>\n",
       "      <td>1.378155</td>\n",
       "      <td>-0.338321</td>\n",
       "      <td>0.462388</td>\n",
       "      <td>0.239599</td>\n",
       "      <td>0.098698</td>\n",
       "      <td>0.363787</td>\n",
       "      <td>0.090794</td>\n",
       "      <td>...</td>\n",
       "      <td>-0.018307</td>\n",
       "      <td>0.277838</td>\n",
       "      <td>-0.110474</td>\n",
       "      <td>0.066928</td>\n",
       "      <td>0.128539</td>\n",
       "      <td>-0.189115</td>\n",
       "      <td>0.133558</td>\n",
       "      <td>-0.021053</td>\n",
       "      <td>0.244964</td>\n",
       "      <td>-1.996583</td>\n",
       "    </tr>\n",
       "    <tr>\n",
       "      <th>1</th>\n",
       "      <td>1.191857</td>\n",
       "      <td>0.266151</td>\n",
       "      <td>0.166480</td>\n",
       "      <td>0.448154</td>\n",
       "      <td>0.060018</td>\n",
       "      <td>-0.082361</td>\n",
       "      <td>-0.078803</td>\n",
       "      <td>0.085102</td>\n",
       "      <td>-0.255425</td>\n",
       "      <td>-0.166974</td>\n",
       "      <td>...</td>\n",
       "      <td>-0.225775</td>\n",
       "      <td>-0.638672</td>\n",
       "      <td>0.101288</td>\n",
       "      <td>-0.339846</td>\n",
       "      <td>0.167170</td>\n",
       "      <td>0.125895</td>\n",
       "      <td>-0.008983</td>\n",
       "      <td>0.014724</td>\n",
       "      <td>-0.342475</td>\n",
       "      <td>-1.996583</td>\n",
       "    </tr>\n",
       "    <tr>\n",
       "      <th>2</th>\n",
       "      <td>-1.358354</td>\n",
       "      <td>-1.340163</td>\n",
       "      <td>1.773209</td>\n",
       "      <td>0.379780</td>\n",
       "      <td>-0.503198</td>\n",
       "      <td>1.800499</td>\n",
       "      <td>0.791461</td>\n",
       "      <td>0.247676</td>\n",
       "      <td>-1.514654</td>\n",
       "      <td>0.207643</td>\n",
       "      <td>...</td>\n",
       "      <td>0.247998</td>\n",
       "      <td>0.771679</td>\n",
       "      <td>0.909412</td>\n",
       "      <td>-0.689281</td>\n",
       "      <td>-0.327642</td>\n",
       "      <td>-0.139097</td>\n",
       "      <td>-0.055353</td>\n",
       "      <td>-0.059752</td>\n",
       "      <td>1.160686</td>\n",
       "      <td>-1.996562</td>\n",
       "    </tr>\n",
       "    <tr>\n",
       "      <th>3</th>\n",
       "      <td>-0.966272</td>\n",
       "      <td>-0.185226</td>\n",
       "      <td>1.792993</td>\n",
       "      <td>-0.863291</td>\n",
       "      <td>-0.010309</td>\n",
       "      <td>1.247203</td>\n",
       "      <td>0.237609</td>\n",
       "      <td>0.377436</td>\n",
       "      <td>-1.387024</td>\n",
       "      <td>-0.054952</td>\n",
       "      <td>...</td>\n",
       "      <td>-0.108300</td>\n",
       "      <td>0.005274</td>\n",
       "      <td>-0.190321</td>\n",
       "      <td>-1.175575</td>\n",
       "      <td>0.647376</td>\n",
       "      <td>-0.221929</td>\n",
       "      <td>0.062723</td>\n",
       "      <td>0.061458</td>\n",
       "      <td>0.140534</td>\n",
       "      <td>-1.996562</td>\n",
       "    </tr>\n",
       "    <tr>\n",
       "      <th>4</th>\n",
       "      <td>-1.158233</td>\n",
       "      <td>0.877737</td>\n",
       "      <td>1.548718</td>\n",
       "      <td>0.403034</td>\n",
       "      <td>-0.407193</td>\n",
       "      <td>0.095921</td>\n",
       "      <td>0.592941</td>\n",
       "      <td>-0.270533</td>\n",
       "      <td>0.817739</td>\n",
       "      <td>0.753074</td>\n",
       "      <td>...</td>\n",
       "      <td>-0.009431</td>\n",
       "      <td>0.798278</td>\n",
       "      <td>-0.137458</td>\n",
       "      <td>0.141267</td>\n",
       "      <td>-0.206010</td>\n",
       "      <td>0.502292</td>\n",
       "      <td>0.219422</td>\n",
       "      <td>0.215153</td>\n",
       "      <td>-0.073403</td>\n",
       "      <td>-1.996541</td>\n",
       "    </tr>\n",
       "  </tbody>\n",
       "</table>\n",
       "<p>5 rows × 30 columns</p>\n",
       "</div>"
      ],
      "text/plain": [
       "         V1        V2        V3        V4        V5        V6        V7  \\\n",
       "0 -1.359807 -0.072781  2.536347  1.378155 -0.338321  0.462388  0.239599   \n",
       "1  1.191857  0.266151  0.166480  0.448154  0.060018 -0.082361 -0.078803   \n",
       "2 -1.358354 -1.340163  1.773209  0.379780 -0.503198  1.800499  0.791461   \n",
       "3 -0.966272 -0.185226  1.792993 -0.863291 -0.010309  1.247203  0.237609   \n",
       "4 -1.158233  0.877737  1.548718  0.403034 -0.407193  0.095921  0.592941   \n",
       "\n",
       "         V8        V9       V10  ...       V21       V22       V23       V24  \\\n",
       "0  0.098698  0.363787  0.090794  ... -0.018307  0.277838 -0.110474  0.066928   \n",
       "1  0.085102 -0.255425 -0.166974  ... -0.225775 -0.638672  0.101288 -0.339846   \n",
       "2  0.247676 -1.514654  0.207643  ...  0.247998  0.771679  0.909412 -0.689281   \n",
       "3  0.377436 -1.387024 -0.054952  ... -0.108300  0.005274 -0.190321 -1.175575   \n",
       "4 -0.270533  0.817739  0.753074  ... -0.009431  0.798278 -0.137458  0.141267   \n",
       "\n",
       "        V25       V26       V27       V28  normalizedAmount  normalizedTime  \n",
       "0  0.128539 -0.189115  0.133558 -0.021053          0.244964       -1.996583  \n",
       "1  0.167170  0.125895 -0.008983  0.014724         -0.342475       -1.996583  \n",
       "2 -0.327642 -0.139097 -0.055353 -0.059752          1.160686       -1.996562  \n",
       "3  0.647376 -0.221929  0.062723  0.061458          0.140534       -1.996562  \n",
       "4 -0.206010  0.502292  0.219422  0.215153         -0.073403       -1.996541  \n",
       "\n",
       "[5 rows x 30 columns]"
      ]
     },
     "execution_count": 9,
     "metadata": {},
     "output_type": "execute_result"
    }
   ],
   "source": [
    "X.head()"
   ]
  },
  {
   "cell_type": "code",
   "execution_count": 10,
   "metadata": {
    "execution": {
     "iopub.execute_input": "2020-12-29T08:02:43.117048Z",
     "iopub.status.busy": "2020-12-29T08:02:43.116390Z",
     "iopub.status.idle": "2020-12-29T08:02:43.201432Z",
     "shell.execute_reply": "2020-12-29T08:02:43.200719Z"
    },
    "papermill": {
     "duration": 0.112969,
     "end_time": "2020-12-29T08:02:43.201555",
     "exception": false,
     "start_time": "2020-12-29T08:02:43.088586",
     "status": "completed"
    },
    "tags": []
   },
   "outputs": [],
   "source": [
    "X_train,X_test,Y_train,Y_test=\\\n",
    "train_test_split(X,Y,shuffle=True, test_size = 0.2,random_state=1234)"
   ]
  },
  {
   "cell_type": "code",
   "execution_count": 11,
   "metadata": {
    "execution": {
     "iopub.execute_input": "2020-12-29T08:02:43.256600Z",
     "iopub.status.busy": "2020-12-29T08:02:43.255846Z",
     "iopub.status.idle": "2020-12-29T08:02:43.259691Z",
     "shell.execute_reply": "2020-12-29T08:02:43.258967Z"
    },
    "papermill": {
     "duration": 0.033562,
     "end_time": "2020-12-29T08:02:43.259797",
     "exception": false,
     "start_time": "2020-12-29T08:02:43.226235",
     "status": "completed"
    },
    "tags": []
   },
   "outputs": [
    {
     "name": "stdout",
     "output_type": "stream",
     "text": [
      "(227845, 30)\n",
      "(227845, 1)\n",
      "(56962, 30)\n",
      "(56962, 1)\n"
     ]
    }
   ],
   "source": [
    "print(X_train.shape)\n",
    "print(Y_train.shape)\n",
    "print(X_test.shape)\n",
    "print(Y_test.shape)"
   ]
  },
  {
   "cell_type": "code",
   "execution_count": 12,
   "metadata": {
    "execution": {
     "iopub.execute_input": "2020-12-29T08:02:43.312543Z",
     "iopub.status.busy": "2020-12-29T08:02:43.311918Z",
     "iopub.status.idle": "2020-12-29T08:02:43.321415Z",
     "shell.execute_reply": "2020-12-29T08:02:43.320529Z"
    },
    "papermill": {
     "duration": 0.037876,
     "end_time": "2020-12-29T08:02:43.321554",
     "exception": false,
     "start_time": "2020-12-29T08:02:43.283678",
     "status": "completed"
    },
    "tags": []
   },
   "outputs": [
    {
     "name": "stdout",
     "output_type": "stream",
     "text": [
      "0    227451\n",
      "1       394\n",
      "Name: Class, dtype: int64\n",
      "0    56864\n",
      "1       98\n",
      "Name: Class, dtype: int64\n"
     ]
    }
   ],
   "source": [
    "print(Y_train.Class.value_counts())\n",
    "print(Y_test.Class.value_counts())"
   ]
  },
  {
   "cell_type": "code",
   "execution_count": 13,
   "metadata": {
    "execution": {
     "iopub.execute_input": "2020-12-29T08:02:43.379625Z",
     "iopub.status.busy": "2020-12-29T08:02:43.378782Z",
     "iopub.status.idle": "2020-12-29T08:02:43.383303Z",
     "shell.execute_reply": "2020-12-29T08:02:43.382347Z"
    },
    "papermill": {
     "duration": 0.036003,
     "end_time": "2020-12-29T08:02:43.383451",
     "exception": false,
     "start_time": "2020-12-29T08:02:43.347448",
     "status": "completed"
    },
    "tags": []
   },
   "outputs": [
    {
     "name": "stdout",
     "output_type": "stream",
     "text": [
      "        Class\n",
      "268227      0\n",
      "19255       0\n",
      "52349       0\n",
      "207139      0\n",
      "146748      0\n"
     ]
    }
   ],
   "source": [
    "print(Y_train.head())"
   ]
  },
  {
   "cell_type": "code",
   "execution_count": 14,
   "metadata": {
    "execution": {
     "iopub.execute_input": "2020-12-29T08:02:43.442613Z",
     "iopub.status.busy": "2020-12-29T08:02:43.441588Z",
     "iopub.status.idle": "2020-12-29T08:02:43.445471Z",
     "shell.execute_reply": "2020-12-29T08:02:43.446106Z"
    },
    "papermill": {
     "duration": 0.036042,
     "end_time": "2020-12-29T08:02:43.446261",
     "exception": false,
     "start_time": "2020-12-29T08:02:43.410219",
     "status": "completed"
    },
    "tags": []
   },
   "outputs": [
    {
     "name": "stdout",
     "output_type": "stream",
     "text": [
      "V1                  float64\n",
      "V2                  float64\n",
      "V3                  float64\n",
      "V4                  float64\n",
      "V5                  float64\n",
      "V6                  float64\n",
      "V7                  float64\n",
      "V8                  float64\n",
      "V9                  float64\n",
      "V10                 float64\n",
      "V11                 float64\n",
      "V12                 float64\n",
      "V13                 float64\n",
      "V14                 float64\n",
      "V15                 float64\n",
      "V16                 float64\n",
      "V17                 float64\n",
      "V18                 float64\n",
      "V19                 float64\n",
      "V20                 float64\n",
      "V21                 float64\n",
      "V22                 float64\n",
      "V23                 float64\n",
      "V24                 float64\n",
      "V25                 float64\n",
      "V26                 float64\n",
      "V27                 float64\n",
      "V28                 float64\n",
      "normalizedAmount    float64\n",
      "normalizedTime      float64\n",
      "dtype: object\n"
     ]
    }
   ],
   "source": [
    "print(X_train.dtypes)"
   ]
  },
  {
   "cell_type": "markdown",
   "metadata": {
    "papermill": {
     "duration": 0.02622,
     "end_time": "2020-12-29T08:02:43.498809",
     "exception": false,
     "start_time": "2020-12-29T08:02:43.472589",
     "status": "completed"
    },
    "tags": []
   },
   "source": [
    "# **Resampling with K-Means SMOTE**\n",
    "\n",
    "As a starting point, we will initiate K-Means SMOTE algorithm with default values for following parameters:\n",
    "\n",
    "Sampling Strategy = 0.333 (#minority instances / #majority instances)\n",
    "K-neighbours = 5\n",
    "random_state = 1234\n",
    "Kmeans_estimator = MiniBatchKMeans(random_state = None)\n",
    "cluster_balance_threshold = auto\n",
    "\n",
    "For futher info about parameters, refer to this [link](https://imbalanced-learn.readthedocs.io/en/stable/generated/imblearn.over_sampling.KMeansSMOTE.html)"
   ]
  },
  {
   "cell_type": "code",
   "execution_count": 15,
   "metadata": {
    "execution": {
     "iopub.execute_input": "2020-12-29T08:02:43.561012Z",
     "iopub.status.busy": "2020-12-29T08:02:43.560324Z",
     "iopub.status.idle": "2020-12-29T08:02:45.164529Z",
     "shell.execute_reply": "2020-12-29T08:02:45.163813Z"
    },
    "papermill": {
     "duration": 1.639323,
     "end_time": "2020-12-29T08:02:45.164667",
     "exception": false,
     "start_time": "2020-12-29T08:02:43.525344",
     "status": "completed"
    },
    "tags": []
   },
   "outputs": [
    {
     "name": "stdout",
     "output_type": "stream",
     "text": [
      "Class 0 has 227451 instances\n",
      "Class 1 has 394 instances\n",
      "Class 0 has 227451 instances after resampling\n",
      "Class 1 has 122368 instances after resampling\n"
     ]
    },
    {
     "data": {
      "text/plain": [
       "[None, None]"
      ]
     },
     "execution_count": 15,
     "metadata": {},
     "output_type": "execute_result"
    }
   ],
   "source": [
    "clf = MiniKM(n_clusters = 100, random_state = 1234)\n",
    "\n",
    "[print('Class {} has {} instances'.format(label, count))\n",
    "for label, count, in zip(*np.unique(Y_train, return_counts=True))]\n",
    "\n",
    "kmeans_smote = KMeansSMOTE (sampling_strategy = 0.538,random_state = 1234,k_neighbors=10,\n",
    "                            kmeans_estimator = clf,cluster_balance_threshold = \"auto\")\n",
    "\n",
    "Y_train_reshape=np.ravel(Y_train)\n",
    "X_KM, Y_KM = kmeans_smote.fit_resample(X_train,Y_train_reshape)\n",
    "\n",
    "[print('Class {} has {} instances after resampling'.format(label, count))\n",
    "for label, count, in zip(*np.unique(Y_KM, return_counts=True))]"
   ]
  },
  {
   "cell_type": "markdown",
   "metadata": {
    "papermill": {
     "duration": 0.026276,
     "end_time": "2020-12-29T08:02:45.217028",
     "exception": false,
     "start_time": "2020-12-29T08:02:45.190752",
     "status": "completed"
    },
    "tags": []
   },
   "source": [
    "# **ANN with no resampling**"
   ]
  },
  {
   "cell_type": "code",
   "execution_count": 16,
   "metadata": {
    "execution": {
     "iopub.execute_input": "2020-12-29T08:02:45.277452Z",
     "iopub.status.busy": "2020-12-29T08:02:45.276782Z",
     "iopub.status.idle": "2020-12-29T08:03:55.180751Z",
     "shell.execute_reply": "2020-12-29T08:03:55.180089Z"
    },
    "papermill": {
     "duration": 69.938035,
     "end_time": "2020-12-29T08:03:55.180871",
     "exception": false,
     "start_time": "2020-12-29T08:02:45.242836",
     "status": "completed"
    },
    "tags": []
   },
   "outputs": [
    {
     "name": "stdout",
     "output_type": "stream",
     "text": [
      "Epoch 1/10\n",
      "5697/5697 - 7s - loss: 0.0146 - accuracy: 0.9982 - val_loss: 0.0031 - val_accuracy: 0.9994\n",
      "Epoch 2/10\n",
      "5697/5697 - 7s - loss: 0.0036 - accuracy: 0.9994 - val_loss: 0.0027 - val_accuracy: 0.9995\n",
      "Epoch 3/10\n",
      "5697/5697 - 7s - loss: 0.0032 - accuracy: 0.9994 - val_loss: 0.0026 - val_accuracy: 0.9994\n",
      "Epoch 4/10\n",
      "5697/5697 - 7s - loss: 0.0031 - accuracy: 0.9994 - val_loss: 0.0023 - val_accuracy: 0.9995\n",
      "Epoch 5/10\n",
      "5697/5697 - 7s - loss: 0.0030 - accuracy: 0.9994 - val_loss: 0.0022 - val_accuracy: 0.9995\n",
      "Epoch 6/10\n",
      "5697/5697 - 7s - loss: 0.0029 - accuracy: 0.9994 - val_loss: 0.0021 - val_accuracy: 0.9995\n",
      "Epoch 7/10\n",
      "5697/5697 - 7s - loss: 0.0028 - accuracy: 0.9994 - val_loss: 0.0022 - val_accuracy: 0.9995\n",
      "Epoch 8/10\n",
      "5697/5697 - 7s - loss: 0.0028 - accuracy: 0.9994 - val_loss: 0.0023 - val_accuracy: 0.9995\n",
      "Epoch 9/10\n",
      "5697/5697 - 7s - loss: 0.0027 - accuracy: 0.9994 - val_loss: 0.0021 - val_accuracy: 0.9995\n",
      "Epoch 10/10\n",
      "5697/5697 - 7s - loss: 0.0026 - accuracy: 0.9995 - val_loss: 0.0026 - val_accuracy: 0.9994\n"
     ]
    },
    {
     "data": {
      "text/plain": [
       "<tensorflow.python.keras.callbacks.History at 0x7f91e2b3d090>"
      ]
     },
     "execution_count": 16,
     "metadata": {},
     "output_type": "execute_result"
    }
   ],
   "source": [
    "# Initialising the ANN\n",
    "classifier = Sequential()\n",
    "# Adding the input layer and the first hidden layer\n",
    "classifier.add(Dense(units =15 , kernel_initializer = 'uniform', activation = 'relu', input_dim = 30))\n",
    "# Adding the second hidden layer\n",
    "classifier.add(Dense(units = 15, kernel_initializer = 'uniform', activation = 'relu'))\n",
    "# Adding the third hidden layer\n",
    "classifier.add(Dense(units = 15, kernel_initializer = 'uniform', activation = 'relu'))\n",
    "# Adding the output layer\n",
    "classifier.add(Dense(units = 1, kernel_initializer = 'uniform', activation = 'sigmoid'))\n",
    "# Compiling the ANN\n",
    "classifier.compile(optimizer = 'adam', loss = 'binary_crossentropy', metrics = ['accuracy'])\n",
    "# Fitting the ANN to the Training set\n",
    "classifier.fit(X_train, Y_train, batch_size = 32, epochs = 10, validation_split = 0.2, verbose = 2, shuffle = True)"
   ]
  },
  {
   "cell_type": "markdown",
   "metadata": {
    "papermill": {
     "duration": 0.033387,
     "end_time": "2020-12-29T08:03:55.248142",
     "exception": false,
     "start_time": "2020-12-29T08:03:55.214755",
     "status": "completed"
    },
    "tags": []
   },
   "source": [
    "# **Predicting the test results**"
   ]
  },
  {
   "cell_type": "code",
   "execution_count": 17,
   "metadata": {
    "execution": {
     "iopub.execute_input": "2020-12-29T08:03:55.327243Z",
     "iopub.status.busy": "2020-12-29T08:03:55.326507Z",
     "iopub.status.idle": "2020-12-29T08:03:58.111984Z",
     "shell.execute_reply": "2020-12-29T08:03:58.111381Z"
    },
    "papermill": {
     "duration": 2.831312,
     "end_time": "2020-12-29T08:03:58.112118",
     "exception": false,
     "start_time": "2020-12-29T08:03:55.280806",
     "status": "completed"
    },
    "tags": []
   },
   "outputs": [
    {
     "name": "stdout",
     "output_type": "stream",
     "text": [
      "1781/1781 [==============================] - 1s 743us/step - loss: 0.0039 - accuracy: 0.9992\n",
      "              precision    recall  f1-score   support\n",
      "\n",
      "           0       1.00      1.00      1.00     56864\n",
      "           1       0.81      0.68      0.74        98\n",
      "\n",
      "    accuracy                           1.00     56962\n",
      "   macro avg       0.90      0.84      0.87     56962\n",
      "weighted avg       1.00      1.00      1.00     56962\n",
      "\n",
      "[[56848    16]\n",
      " [   31    67]]\n",
      "0.7403314917127072\n",
      "0.9991748885221726\n"
     ]
    }
   ],
   "source": [
    "Y_score = classifier.predict(X_test)\n",
    "Y_pred = (Y_score > 0.5)\n",
    "\n",
    "classifier.metrics_names\n",
    "score = classifier.evaluate(X_test, Y_test)\n",
    "score\n",
    "\n",
    "# model performence with f1-score and accuracy\n",
    "print(classification_report(Y_test, Y_pred))\n",
    "\n",
    "# Confusion Matrix\n",
    "cm = confusion_matrix(Y_test, Y_pred) # rows = truth, cols = prediction\n",
    "print(cm)\n",
    "\n",
    "# f1_score\n",
    "f1 = f1_score(Y_test, Y_pred)\n",
    "print(f1)\n",
    "\n",
    "# Accuracy_sccore\n",
    "Acc = accuracy_score(Y_test, Y_pred)\n",
    "print(Acc)"
   ]
  },
  {
   "cell_type": "markdown",
   "metadata": {
    "papermill": {
     "duration": 0.046135,
     "end_time": "2020-12-29T08:03:58.204798",
     "exception": false,
     "start_time": "2020-12-29T08:03:58.158663",
     "status": "completed"
    },
    "tags": []
   },
   "source": [
    "# **ANN with K-Means SMOTE**"
   ]
  },
  {
   "cell_type": "code",
   "execution_count": 18,
   "metadata": {
    "execution": {
     "iopub.execute_input": "2020-12-29T08:03:58.308515Z",
     "iopub.status.busy": "2020-12-29T08:03:58.306356Z",
     "iopub.status.idle": "2020-12-29T08:05:44.320767Z",
     "shell.execute_reply": "2020-12-29T08:05:44.321369Z"
    },
    "papermill": {
     "duration": 106.071245,
     "end_time": "2020-12-29T08:05:44.321603",
     "exception": false,
     "start_time": "2020-12-29T08:03:58.250358",
     "status": "completed"
    },
    "tags": []
   },
   "outputs": [
    {
     "name": "stdout",
     "output_type": "stream",
     "text": [
      "Epoch 1/10\n",
      "8746/8746 - 11s - loss: 0.0111 - accuracy: 0.9989 - val_loss: 0.0024 - val_accuracy: 1.0000\n",
      "Epoch 2/10\n",
      "8746/8746 - 11s - loss: 0.0035 - accuracy: 0.9995 - val_loss: 0.0044 - val_accuracy: 1.0000\n",
      "Epoch 3/10\n",
      "8746/8746 - 10s - loss: 0.0033 - accuracy: 0.9995 - val_loss: 7.3776e-04 - val_accuracy: 1.0000\n",
      "Epoch 4/10\n",
      "8746/8746 - 11s - loss: 0.0031 - accuracy: 0.9996 - val_loss: 4.6343e-04 - val_accuracy: 1.0000\n",
      "Epoch 5/10\n",
      "8746/8746 - 10s - loss: 0.0030 - accuracy: 0.9996 - val_loss: 3.7602e-04 - val_accuracy: 1.0000\n",
      "Epoch 6/10\n",
      "8746/8746 - 10s - loss: 0.0029 - accuracy: 0.9995 - val_loss: 8.0454e-05 - val_accuracy: 1.0000\n",
      "Epoch 7/10\n",
      "8746/8746 - 11s - loss: 0.0028 - accuracy: 0.9996 - val_loss: 9.3889e-04 - val_accuracy: 1.0000\n",
      "Epoch 8/10\n",
      "8746/8746 - 11s - loss: 0.0026 - accuracy: 0.9996 - val_loss: 0.0019 - val_accuracy: 1.0000\n",
      "Epoch 9/10\n",
      "8746/8746 - 11s - loss: 0.0026 - accuracy: 0.9995 - val_loss: 0.0022 - val_accuracy: 1.0000\n",
      "Epoch 10/10\n",
      "8746/8746 - 11s - loss: 0.0025 - accuracy: 0.9996 - val_loss: 4.9417e-04 - val_accuracy: 1.0000\n"
     ]
    },
    {
     "data": {
      "text/plain": [
       "<tensorflow.python.keras.callbacks.History at 0x7f91c45e4a50>"
      ]
     },
     "execution_count": 18,
     "metadata": {},
     "output_type": "execute_result"
    }
   ],
   "source": [
    "# Initialising the ANN\n",
    "clf_KM = Sequential()\n",
    "# Adding the input layer and the first hidden layer\n",
    "clf_KM.add(Dense(units =15 , kernel_initializer = 'uniform', activation = 'relu', input_dim = 30))\n",
    "# Adding the second hidden layer\n",
    "clf_KM.add(Dense(units = 15, kernel_initializer = 'uniform', activation = 'relu'))\n",
    "# Adding the second hidden layer\n",
    "clf_KM.add(Dense(units = 15, kernel_initializer = 'uniform', activation = 'relu'))\n",
    "# Adding the output layer\n",
    "clf_KM.add(Dense(units = 1, kernel_initializer = 'uniform', activation = 'sigmoid'))\n",
    "# Compiling the ANN\n",
    "clf_KM.compile(optimizer = 'adam', loss = 'binary_crossentropy', metrics = ['accuracy'])\n",
    "# Fitting the ANN to the Training set\n",
    "clf_KM.fit(X_KM, Y_KM, batch_size = 32, epochs = 10, verbose=2, validation_split=0.2)"
   ]
  },
  {
   "cell_type": "markdown",
   "metadata": {
    "papermill": {
     "duration": 0.053633,
     "end_time": "2020-12-29T08:05:44.429542",
     "exception": false,
     "start_time": "2020-12-29T08:05:44.375909",
     "status": "completed"
    },
    "tags": []
   },
   "source": [
    "# **Predicting the test results**"
   ]
  },
  {
   "cell_type": "code",
   "execution_count": 19,
   "metadata": {
    "execution": {
     "iopub.execute_input": "2020-12-29T08:05:44.542100Z",
     "iopub.status.busy": "2020-12-29T08:05:44.541342Z",
     "iopub.status.idle": "2020-12-29T08:05:48.026233Z",
     "shell.execute_reply": "2020-12-29T08:05:48.026759Z"
    },
    "papermill": {
     "duration": 3.545378,
     "end_time": "2020-12-29T08:05:48.026928",
     "exception": false,
     "start_time": "2020-12-29T08:05:44.481550",
     "status": "completed"
    },
    "tags": []
   },
   "outputs": [
    {
     "name": "stdout",
     "output_type": "stream",
     "text": [
      "1781/1781 [==============================] - 2s 1ms/step - loss: 0.0035 - accuracy: 0.9993\n",
      "              precision    recall  f1-score   support\n",
      "\n",
      "           0       1.00      1.00      1.00     56864\n",
      "           1       0.82      0.78      0.80        98\n",
      "\n",
      "    accuracy                           1.00     56962\n",
      "   macro avg       0.91      0.89      0.90     56962\n",
      "weighted avg       1.00      1.00      1.00     56962\n",
      "\n",
      "[[56847    17]\n",
      " [   22    76]]\n",
      "0.9993153330290369\n"
     ]
    }
   ],
   "source": [
    "Y_KM_score = clf_KM.predict(X_test)\n",
    "Y_KM_pred = (Y_KM_score > 0.5)\n",
    "\n",
    "clf_KM.metrics_names\n",
    "score = clf_KM.evaluate(X_test, Y_test)\n",
    "score\n",
    "\n",
    "# model performence with f1-score and accuracy\n",
    "print(classification_report(Y_test, Y_KM_pred))\n",
    "cm_KM = confusion_matrix(Y_test, Y_KM_pred) # rows = truth, cols = prediction\n",
    "print(cm_KM)\n",
    "\n",
    "## Accuracy_sccore\n",
    "Acc_KM = accuracy_score(Y_test, Y_KM_pred)\n",
    "print(Acc_KM)"
   ]
  },
  {
   "cell_type": "code",
   "execution_count": 20,
   "metadata": {
    "execution": {
     "iopub.execute_input": "2020-12-29T08:05:48.182488Z",
     "iopub.status.busy": "2020-12-29T08:05:48.181317Z",
     "iopub.status.idle": "2020-12-29T08:05:48.198791Z",
     "shell.execute_reply": "2020-12-29T08:05:48.197837Z"
    },
    "papermill": {
     "duration": 0.097895,
     "end_time": "2020-12-29T08:05:48.198937",
     "exception": false,
     "start_time": "2020-12-29T08:05:48.101042",
     "status": "completed"
    },
    "tags": []
   },
   "outputs": [
    {
     "name": "stdout",
     "output_type": "stream",
     "text": [
      "[0.00000000e+00 8.79290940e-05 8.79290940e-05 ... 9.98944851e-01\n",
      " 9.98980023e-01 1.00000000e+00]\n",
      "[0.         0.44897959 0.46938776 ... 1.         1.         1.        ]\n",
      "[1.8559839e+00 8.5598385e-01 8.4723830e-01 ... 2.1643691e-23 2.1643197e-23\n",
      " 0.0000000e+00]\n",
      "0.9723022456731709\n"
     ]
    }
   ],
   "source": [
    "fpr, tpr, thresholds = roc_curve(Y_test, Y_score)\n",
    "roc_auc = auc(fpr, tpr)\n",
    "\n",
    "print(fpr)\n",
    "print(tpr)\n",
    "print(thresholds)\n",
    "print(roc_auc)"
   ]
  },
  {
   "cell_type": "code",
   "execution_count": 21,
   "metadata": {
    "execution": {
     "iopub.execute_input": "2020-12-29T08:05:48.358616Z",
     "iopub.status.busy": "2020-12-29T08:05:48.357905Z",
     "iopub.status.idle": "2020-12-29T08:05:48.533610Z",
     "shell.execute_reply": "2020-12-29T08:05:48.534116Z"
    },
    "papermill": {
     "duration": 0.259527,
     "end_time": "2020-12-29T08:05:48.534271",
     "exception": false,
     "start_time": "2020-12-29T08:05:48.274744",
     "status": "completed"
    },
    "tags": []
   },
   "outputs": [
    {
     "data": {
      "image/png": "[encoded data removed]",
      "text/plain": [
       "<Figure size 432x288 with 1 Axes>"
      ]
     },
     "metadata": {
      "needs_background": "light"
     },
     "output_type": "display_data"
    }
   ],
   "source": [
    "plt.figure()\n",
    "lw = 2\n",
    "plt.plot(fpr, tpr, color='darkorange',\n",
    "         lw=lw, label='ROC curve (area = %0.2f)' % roc_auc)\n",
    "plt.plot([0, 1], [0, 1], color='navy', lw=lw, linestyle='--')\n",
    "plt.xlim([0.0, 1.0])\n",
    "plt.ylim([0.0, 1.05])\n",
    "plt.xlabel('False Positive Rate')\n",
    "plt.ylabel('True Positive Rate')\n",
    "plt.title('Receiver operating characteristic example')\n",
    "plt.legend(loc=\"lower right\")\n",
    "plt.show()"
   ]
  }
 ],
 "metadata": {
  "kernelspec": {
   "display_name": "Python 3",
   "language": "python",
   "name": "python3"
  },
  "language_info": {
   "codemirror_mode": {
    "name": "ipython",
    "version": 3
   },
   "file_extension": ".py",
   "mimetype": "text/x-python",
   "name": "python",
   "nbconvert_exporter": "python",
   "pygments_lexer": "ipython3",
   "version": "3.7.6"
  },
  "papermill": {
   "duration": 200.899091,
   "end_time": "2020-12-29T08:05:48.718805",
   "environment_variables": {},
   "exception": null,
   "input_path": "__notebook__.ipynb",
   "output_path": "__notebook__.ipynb",
   "parameters": {},
   "start_time": "2020-12-29T08:02:27.819714",
   "version": "2.1.0"
  }
 },
 "nbformat": 4,
 "nbformat_minor": 4
}
